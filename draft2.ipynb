{
  "nbformat": 4,
  "nbformat_minor": 0,
  "metadata": {
    "colab": {
      "provenance": [],
      "mount_file_id": "1hPZ0je2_ghEQuvKJxpoCkiS6th9TViCn",
      "authorship_tag": "ABX9TyNV30RZASSEE2y+8hjQmGaH",
      "include_colab_link": true
    },
    "kernelspec": {
      "name": "python3",
      "display_name": "Python 3"
    },
    "language_info": {
      "name": "python"
    }
  },
  "cells": [
    {
      "cell_type": "markdown",
      "metadata": {
        "id": "view-in-github",
        "colab_type": "text"
      },
      "source": [
        "<a href=\"https://colab.research.google.com/github/ChelseaOwiti/Colposcopy-Scan/blob/main/draft2.ipynb\" target=\"_parent\"><img src=\"https://colab.research.google.com/assets/colab-badge.svg\" alt=\"Open In Colab\"/></a>"
      ]
    },
    {
      "cell_type": "code",
      "source": [
        "%cd /content/drive/MyDrive/Project\n",
        "%ls"
      ],
      "metadata": {
        "colab": {
          "base_uri": "https://localhost:8080/"
        },
        "id": "hfchgFxOJGYi",
        "outputId": "e7a8714b-66f1-4a18-8fdc-af39115ea409"
      },
      "execution_count": null,
      "outputs": [
        {
          "output_type": "stream",
          "name": "stdout",
          "text": [
            "/content/drive/MyDrive/Project\n",
            "d2_model.h5  d3_model.h5  \u001b[0m\u001b[01;34mdata\u001b[0m/  draft1.ipynb  h5_model.h5  model.tflite\n"
          ]
        }
      ]
    },
    {
      "cell_type": "code",
      "source": [
        "trainpath = 'data/train'\n",
        "valpath = 'data/val'\n",
        "testpath = 'data/test'"
      ],
      "metadata": {
        "id": "JXIHhB7RJZzF"
      },
      "execution_count": null,
      "outputs": []
    },
    {
      "cell_type": "code",
      "source": [
        "import numpy as np\n",
        "import os\n",
        "import PIL\n",
        "\n",
        "import tensorflow as tf\n",
        "from tensorflow import keras\n",
        "from tensorflow.keras import layers\n",
        "from tensorflow.keras.models import Sequential\n",
        "\n",
        "import matplotlib.pyplot as plt\n",
        "\n",
        "import pathlib"
      ],
      "metadata": {
        "id": "7hUC2R5gJcdE"
      },
      "execution_count": null,
      "outputs": []
    },
    {
      "cell_type": "code",
      "source": [
        "train_dir = pathlib.Path(trainpath)\n",
        "test_dir = pathlib.Path(valpath)\n",
        "\n",
        "print(str(len(list(train_dir.glob('*/*.jpg'))) )+ ' Training Images')\n",
        "print(str(len(list(test_dir.glob('*/*.jpg')))) + ' Testing Images')"
      ],
      "metadata": {
        "colab": {
          "base_uri": "https://localhost:8080/"
        },
        "id": "ivnys_tFJgLX",
        "outputId": "7e71c149-737c-48af-9598-51132df40de3"
      },
      "execution_count": null,
      "outputs": [
        {
          "output_type": "stream",
          "name": "stdout",
          "text": [
            "888 Training Images\n",
            "296 Testing Images\n"
          ]
        }
      ]
    },
    {
      "cell_type": "code",
      "source": [
        "batch_size = 32  \n",
        "img_height = 224\n",
        "img_width = 224"
      ],
      "metadata": {
        "id": "Jt1xGq9CJlME"
      },
      "execution_count": null,
      "outputs": []
    },
    {
      "cell_type": "code",
      "source": [
        "train_ds = tf.keras.utils.image_dataset_from_directory(\n",
        "    train_dir,\n",
        "    validation_split = 0.1,\n",
        "    subset ='training',\n",
        "    seed = 123,\n",
        "    image_size = (img_height, img_width),\n",
        "    batch_size = batch_size\n",
        ")"
      ],
      "metadata": {
        "colab": {
          "base_uri": "https://localhost:8080/"
        },
        "id": "wxX1S0mKJopE",
        "outputId": "7b319107-8489-49b8-b9ef-fcca4dc68ca9"
      },
      "execution_count": null,
      "outputs": [
        {
          "output_type": "stream",
          "name": "stdout",
          "text": [
            "Found 888 files belonging to 3 classes.\n",
            "Using 800 files for training.\n"
          ]
        }
      ]
    },
    {
      "cell_type": "code",
      "source": [
        "val_ds = tf.keras.utils.image_dataset_from_directory(\n",
        "    train_dir,\n",
        "    validation_split = 0.1,\n",
        "    subset ='validation',\n",
        "    seed = 123,\n",
        "    image_size = (img_height, img_width),\n",
        "    batch_size = batch_size\n",
        ")"
      ],
      "metadata": {
        "colab": {
          "base_uri": "https://localhost:8080/"
        },
        "id": "a5iMZURRJsG-",
        "outputId": "0c023967-4deb-4bc5-c62b-50c6bc33b5cf"
      },
      "execution_count": null,
      "outputs": [
        {
          "output_type": "stream",
          "name": "stdout",
          "text": [
            "Found 888 files belonging to 3 classes.\n",
            "Using 88 files for validation.\n"
          ]
        }
      ]
    },
    {
      "cell_type": "code",
      "source": [
        "class_names = train_ds.class_names\n",
        "print(class_names)"
      ],
      "metadata": {
        "colab": {
          "base_uri": "https://localhost:8080/"
        },
        "id": "UGTp9tD0JuAZ",
        "outputId": "247840f0-a075-4444-9197-a51ec91a78b8"
      },
      "execution_count": null,
      "outputs": [
        {
          "output_type": "stream",
          "name": "stdout",
          "text": [
            "['Type_1', 'Type_2', 'Type_3']\n"
          ]
        }
      ]
    },
    {
      "cell_type": "code",
      "source": [
        "for image_batch, labels_batch in train_ds: #image batch is a tensor of the shape\n",
        "  print(image_batch.shape)\n",
        "  print(labels_batch.shape)\n",
        "  break"
      ],
      "metadata": {
        "colab": {
          "base_uri": "https://localhost:8080/"
        },
        "id": "2LGrElbXJy_3",
        "outputId": "686a0f0a-e54f-4c52-def4-256a1ed2fb58"
      },
      "execution_count": null,
      "outputs": [
        {
          "output_type": "stream",
          "name": "stdout",
          "text": [
            "(32, 224, 224, 3)\n",
            "(32,)\n"
          ]
        }
      ]
    },
    {
      "cell_type": "markdown",
      "source": [
        "Transfer learning & fine-tuning with a custom training loop"
      ],
      "metadata": {
        "id": "fbKVaatEKAPo"
      }
    },
    {
      "cell_type": "code",
      "source": [
        "# Create base model\n",
        "base_model = keras.applications.Xception(\n",
        "    weights='imagenet',\n",
        "    input_shape=(224, 224, 3),\n",
        "    include_top=False)\n",
        "# Freeze base model\n",
        "base_model.trainable = False\n",
        "\n",
        "# Create new model on top.\n",
        "inputs = keras.Input(shape=(224, 224, 3))\n",
        "x = base_model(inputs, training=False)\n",
        "x = keras.layers.GlobalAveragePooling2D()(x)\n",
        "outputs = keras.layers.Dense(1)(x)\n",
        "model = keras.Model(inputs, outputs)\n",
        "\n",
        "loss_fn = keras.losses.BinaryCrossentropy(from_logits=True)\n",
        "optimizer = keras.optimizers.Adam()\n",
        "\n",
        "# Iterate over the batches of a dataset.\n",
        "for inputs, targets in train_ds:\n",
        "    # Open a GradientTape.\n",
        "    with tf.GradientTape() as tape:\n",
        "        # Forward pass.\n",
        "        predictions = model(inputs)\n",
        "        # Compute the loss value for this batch.\n",
        "        loss_value = loss_fn(targets, predictions)\n",
        "\n",
        "    # Get gradients of loss wrt the *trainable* weights.\n",
        "    gradients = tape.gradient(loss_value, model.trainable_weights)\n",
        "    # Update the weights of the model.\n",
        "    optimizer.apply_gradients(zip(gradients, model.trainable_weights))\n"
      ],
      "metadata": {
        "colab": {
          "base_uri": "https://localhost:8080/"
        },
        "id": "w_PshWkHKBaF",
        "outputId": "bbbba362-8ce5-43dc-e138-8696b7413fe5"
      },
      "execution_count": null,
      "outputs": [
        {
          "output_type": "stream",
          "name": "stdout",
          "text": [
            "Downloading data from https://storage.googleapis.com/tensorflow/keras-applications/xception/xception_weights_tf_dim_ordering_tf_kernels_notop.h5\n",
            "83683744/83683744 [==============================] - 0s 0us/step\n"
          ]
        }
      ]
    },
    {
      "cell_type": "code",
      "source": [
        "model.summary()"
      ],
      "metadata": {
        "colab": {
          "base_uri": "https://localhost:8080/"
        },
        "id": "wDyhMVctLQWS",
        "outputId": "7a27e6a0-58c5-4612-d406-656e4a2c7b64"
      },
      "execution_count": null,
      "outputs": [
        {
          "output_type": "stream",
          "name": "stdout",
          "text": [
            "Model: \"model\"\n",
            "_________________________________________________________________\n",
            " Layer (type)                Output Shape              Param #   \n",
            "=================================================================\n",
            " input_2 (InputLayer)        [(None, 224, 224, 3)]     0         \n",
            "                                                                 \n",
            " xception (Functional)       (None, 7, 7, 2048)        20861480  \n",
            "                                                                 \n",
            " global_average_pooling2d (G  (None, 2048)             0         \n",
            " lobalAveragePooling2D)                                          \n",
            "                                                                 \n",
            " dense (Dense)               (None, 1)                 2049      \n",
            "                                                                 \n",
            "=================================================================\n",
            "Total params: 20,863,529\n",
            "Trainable params: 2,049\n",
            "Non-trainable params: 20,861,480\n",
            "_________________________________________________________________\n"
          ]
        }
      ]
    },
    {
      "cell_type": "code",
      "source": [
        "#train the top layer\n",
        "model.compile(\n",
        "    optimizer=keras.optimizers.Adam(),\n",
        "    loss=keras.losses.BinaryCrossentropy(from_logits=True),\n",
        "    metrics=[keras.metrics.BinaryAccuracy()],\n",
        ")\n",
        "\n",
        "epochs = 20\n",
        "model.fit(train_ds, epochs=epochs, validation_data=val_ds)\n"
      ],
      "metadata": {
        "colab": {
          "base_uri": "https://localhost:8080/"
        },
        "id": "AK0ff9IA-jtP",
        "outputId": "c87e0833-7e66-4e2b-f5da-b9c8b7e8e79c"
      },
      "execution_count": null,
      "outputs": [
        {
          "output_type": "stream",
          "name": "stdout",
          "text": [
            "Epoch 1/20\n",
            "25/25 [==============================] - 186s 7s/step - loss: -35.5148 - binary_accuracy: 0.5225 - val_loss: -20.9393 - val_binary_accuracy: 0.5682\n",
            "Epoch 2/20\n",
            "25/25 [==============================] - 171s 7s/step - loss: -58.3672 - binary_accuracy: 0.5225 - val_loss: -29.7525 - val_binary_accuracy: 0.5682\n",
            "Epoch 3/20\n",
            "25/25 [==============================] - 170s 7s/step - loss: -79.8750 - binary_accuracy: 0.5225 - val_loss: -38.2977 - val_binary_accuracy: 0.5682\n",
            "Epoch 4/20\n",
            "25/25 [==============================] - 171s 7s/step - loss: -101.2328 - binary_accuracy: 0.5225 - val_loss: -46.9904 - val_binary_accuracy: 0.5682\n",
            "Epoch 5/20\n",
            "25/25 [==============================] - 169s 7s/step - loss: -121.6502 - binary_accuracy: 0.5225 - val_loss: -56.9061 - val_binary_accuracy: 0.5682\n",
            "Epoch 6/20\n",
            "25/25 [==============================] - 168s 7s/step - loss: -143.6379 - binary_accuracy: 0.5225 - val_loss: -66.0414 - val_binary_accuracy: 0.5682\n",
            "Epoch 7/20\n",
            "25/25 [==============================] - 168s 7s/step - loss: -165.8153 - binary_accuracy: 0.5225 - val_loss: -74.4074 - val_binary_accuracy: 0.5682\n",
            "Epoch 8/20\n",
            "25/25 [==============================] - 169s 7s/step - loss: -186.9427 - binary_accuracy: 0.5225 - val_loss: -83.4441 - val_binary_accuracy: 0.5682\n",
            "Epoch 9/20\n",
            "25/25 [==============================] - 170s 7s/step - loss: -207.7201 - binary_accuracy: 0.5225 - val_loss: -92.8312 - val_binary_accuracy: 0.5682\n",
            "Epoch 10/20\n",
            "25/25 [==============================] - 171s 7s/step - loss: -229.2227 - binary_accuracy: 0.5225 - val_loss: -101.8925 - val_binary_accuracy: 0.5682\n",
            "Epoch 11/20\n",
            "25/25 [==============================] - 170s 7s/step - loss: -251.0836 - binary_accuracy: 0.5225 - val_loss: -110.4437 - val_binary_accuracy: 0.5682\n",
            "Epoch 12/20\n",
            "25/25 [==============================] - 170s 7s/step - loss: -271.9437 - binary_accuracy: 0.5225 - val_loss: -119.2967 - val_binary_accuracy: 0.5682\n",
            "Epoch 13/20\n",
            "25/25 [==============================] - 170s 7s/step - loss: -292.9295 - binary_accuracy: 0.5225 - val_loss: -128.3691 - val_binary_accuracy: 0.5682\n",
            "Epoch 14/20\n",
            "25/25 [==============================] - 170s 7s/step - loss: -314.4046 - binary_accuracy: 0.5225 - val_loss: -137.0823 - val_binary_accuracy: 0.5682\n",
            "Epoch 15/20\n",
            "25/25 [==============================] - 171s 7s/step - loss: -335.4936 - binary_accuracy: 0.5225 - val_loss: -145.9365 - val_binary_accuracy: 0.5682\n",
            "Epoch 16/20\n",
            "25/25 [==============================] - 170s 7s/step - loss: -356.7628 - binary_accuracy: 0.5225 - val_loss: -154.8079 - val_binary_accuracy: 0.5682\n",
            "Epoch 17/20\n",
            "25/25 [==============================] - 169s 7s/step - loss: -377.9310 - binary_accuracy: 0.5225 - val_loss: -163.6697 - val_binary_accuracy: 0.5682\n",
            "Epoch 18/20\n",
            "25/25 [==============================] - 168s 7s/step - loss: -399.2671 - binary_accuracy: 0.5225 - val_loss: -172.3331 - val_binary_accuracy: 0.5682\n",
            "Epoch 19/20\n",
            "25/25 [==============================] - 169s 7s/step - loss: -420.2468 - binary_accuracy: 0.5225 - val_loss: -181.3739 - val_binary_accuracy: 0.5682\n",
            "Epoch 20/20\n",
            "25/25 [==============================] - 171s 7s/step - loss: -441.6361 - binary_accuracy: 0.5225 - val_loss: -190.3128 - val_binary_accuracy: 0.5682\n"
          ]
        },
        {
          "output_type": "execute_result",
          "data": {
            "text/plain": [
              "<keras.callbacks.History at 0x7f045346da50>"
            ]
          },
          "metadata": {},
          "execution_count": 12
        }
      ]
    },
    {
      "cell_type": "code",
      "source": [
        "# Unfreeze the base_model. Note that it keeps running in inference mode\n",
        "# since we passed `training=False` when calling it. This means that\n",
        "# the batchnorm layers will not update their batch statistics.\n",
        "# This prevents the batchnorm layers from undoing all the training\n",
        "# we've done so far.\n",
        "base_model.trainable = True\n",
        "model.summary()\n",
        "\n",
        "model.compile(\n",
        "    optimizer=keras.optimizers.Adam(1e-5),  # Low learning rate\n",
        "    loss=keras.losses.BinaryCrossentropy(from_logits=True),\n",
        "    metrics=[keras.metrics.BinaryAccuracy()],\n",
        ")\n",
        "\n",
        "epochs = 10\n",
        "history = model.fit(train_ds, epochs=epochs, validation_data=val_ds)\n"
      ],
      "metadata": {
        "colab": {
          "base_uri": "https://localhost:8080/"
        },
        "id": "96oz_NwOOJi5",
        "outputId": "c23ae1cf-ad74-4096-d9f3-5532236df536"
      },
      "execution_count": null,
      "outputs": [
        {
          "output_type": "stream",
          "name": "stdout",
          "text": [
            "Model: \"model\"\n",
            "_________________________________________________________________\n",
            " Layer (type)                Output Shape              Param #   \n",
            "=================================================================\n",
            " input_2 (InputLayer)        [(None, 224, 224, 3)]     0         \n",
            "                                                                 \n",
            " xception (Functional)       (None, 7, 7, 2048)        20861480  \n",
            "                                                                 \n",
            " global_average_pooling2d (G  (None, 2048)             0         \n",
            " lobalAveragePooling2D)                                          \n",
            "                                                                 \n",
            " dense (Dense)               (None, 1)                 2049      \n",
            "                                                                 \n",
            "=================================================================\n",
            "Total params: 20,863,529\n",
            "Trainable params: 20,809,001\n",
            "Non-trainable params: 54,528\n",
            "_________________________________________________________________\n",
            "Epoch 1/10\n",
            "25/25 [==============================] - 655s 25s/step - loss: -3430.2334 - binary_accuracy: 0.5225 - val_loss: -3509.7366 - val_binary_accuracy: 0.5682\n",
            "Epoch 2/10\n",
            "25/25 [==============================] - 636s 25s/step - loss: -32869.4258 - binary_accuracy: 0.5225 - val_loss: -33365.7656 - val_binary_accuracy: 0.5682\n",
            "Epoch 3/10\n",
            "25/25 [==============================] - 639s 26s/step - loss: -286161.5938 - binary_accuracy: 0.5225 - val_loss: -270179.9062 - val_binary_accuracy: 0.5682\n",
            "Epoch 4/10\n",
            "25/25 [==============================] - 644s 26s/step - loss: -1937505.0000 - binary_accuracy: 0.5225 - val_loss: -1983993.1250 - val_binary_accuracy: 0.5682\n",
            "Epoch 5/10\n",
            "25/25 [==============================] - 646s 26s/step - loss: -12079850.0000 - binary_accuracy: 0.5225 - val_loss: -11188492.0000 - val_binary_accuracy: 0.5682\n",
            "Epoch 6/10\n",
            "25/25 [==============================] - 646s 26s/step - loss: -79468976.0000 - binary_accuracy: 0.5225 - val_loss: -64714896.0000 - val_binary_accuracy: 0.5682\n",
            "Epoch 7/10\n",
            "25/25 [==============================] - 647s 26s/step - loss: -440029152.0000 - binary_accuracy: 0.5225 - val_loss: -470708608.0000 - val_binary_accuracy: 0.5682\n",
            "Epoch 8/10\n",
            "25/25 [==============================] - 643s 26s/step - loss: -4027546368.0000 - binary_accuracy: 0.5225 - val_loss: -4884828672.0000 - val_binary_accuracy: 0.5682\n",
            "Epoch 9/10\n",
            "25/25 [==============================] - 645s 26s/step - loss: -46408712192.0000 - binary_accuracy: 0.5225 - val_loss: -51579101184.0000 - val_binary_accuracy: 0.5682\n",
            "Epoch 10/10\n",
            "25/25 [==============================] - 648s 26s/step - loss: -473055821824.0000 - binary_accuracy: 0.5225 - val_loss: -543743836160.0000 - val_binary_accuracy: 0.5682\n"
          ]
        }
      ]
    },
    {
      "cell_type": "code",
      "source": [
        "model.save(\"d3_model.h5\")"
      ],
      "metadata": {
        "id": "33bcEYp72y1e"
      },
      "execution_count": null,
      "outputs": []
    }
  ]
}