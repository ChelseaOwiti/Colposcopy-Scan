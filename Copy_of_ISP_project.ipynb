{
  "nbformat": 4,
  "nbformat_minor": 0,
  "metadata": {
    "colab": {
      "provenance": [],
      "include_colab_link": true
    },
    "kernelspec": {
      "name": "python3",
      "display_name": "Python 3"
    },
    "language_info": {
      "name": "python"
    }
  },
  "cells": [
    {
      "cell_type": "markdown",
      "metadata": {
        "id": "view-in-github",
        "colab_type": "text"
      },
      "source": [
        "<a href=\"https://colab.research.google.com/github/ChelseaOwiti/Colposcopy-Scan/blob/main/Copy_of_ISP_project.ipynb\" target=\"_parent\"><img src=\"https://colab.research.google.com/assets/colab-badge.svg\" alt=\"Open In Colab\"/></a>"
      ]
    },
    {
      "cell_type": "code",
      "execution_count": null,
      "metadata": {
        "id": "mQ6svWD-dWOF",
        "colab": {
          "base_uri": "https://localhost:8080/"
        },
        "outputId": "90cc68cd-998d-4b39-bb02-f13b47471e1a"
      },
      "outputs": [
        {
          "output_type": "stream",
          "name": "stdout",
          "text": [
            "Mounted at /content/drive/\n"
          ]
        }
      ],
      "source": [
        "from google.colab import drive\n",
        "drive.mount('/content/drive/')"
      ]
    },
    {
      "cell_type": "code",
      "source": [
        "!pip install -q keras\n",
        "!pip install dicom\n",
        "\n",
        "%matplotlib inline\n",
        "\n",
        "import numpy as np\n",
        "import pandas as pd \n",
        "import keras\n",
        "\n",
        "import dicom\n",
        "import os\n",
        "import scipy.ndimage\n",
        "import matplotlib.pyplot as plt\n",
        " \n",
        "from skimage import measure, morphology \n",
        "from mpl_toolkits.mplot3d.art3d import Poly3DCollection\n",
        "\n",
        "train_path = '/content/drive/MyDrive/train_new/train'\n",
        "patients = os.listdir(train_path)\n",
        "patients.sort()\n",
        "\n",
        "\n"
      ],
      "metadata": {
        "colab": {
          "base_uri": "https://localhost:8080/"
        },
        "id": "ACtmNNON0Wok",
        "outputId": "6b0f249f-8781-422d-c17f-4d679666fd0e"
      },
      "execution_count": null,
      "outputs": [
        {
          "output_type": "stream",
          "name": "stdout",
          "text": [
            "Looking in indexes: https://pypi.org/simple, https://us-python.pkg.dev/colab-wheels/public/simple/\n",
            "Requirement already satisfied: dicom in /usr/local/lib/python3.7/dist-packages (0.9.9.post1)\n"
          ]
        }
      ]
    },
    {
      "cell_type": "code",
      "source": [
        "#load images in folder path\n",
        "def load_scan(path):\n",
        "  slices = [dicom.read_file(path + '/' + s) for s in os.listdir(path)]\n",
        "  slices.sort(key = lambda x:float(x.ImagePositionPatient[2]))\n",
        "  try:\n",
        "    slice_thickness = np.abs(slices[0].ImagePositionPatient[2] - slice[1].ImagePositionPatient[2])\n",
        "  except:\n",
        "    slice_thickness = np.abs(slices[0].SliceLocation - slices[1].SliceLocation)\n",
        "  \n",
        "  for s in slices:\n",
        "    s.SliceThickness = slice_thickness\n",
        "\n",
        "  return slices"
      ],
      "metadata": {
        "id": "60FnCqwR4fjf"
      },
      "execution_count": null,
      "outputs": []
    },
    {
      "cell_type": "code",
      "source": [
        "def get_pixels_hu(slices):\n",
        "  image = np.stack([s.pixel_array for s in slices])\n",
        "\n",
        "  # convert to int 16\n",
        "  image = image.astype(np.int16)\n",
        "\n",
        "  # set outside of scan pixels to 0\n",
        "  #intercept is usually -1024, so air is approx 0\n",
        "\n",
        "  image[image == -2000] = 0\n",
        "   \n",
        "  #convert to Hounsfield units (hu)\n",
        "\n",
        "  for slice_number in range(len(slices)):\n",
        "    intercept = slices[slice_number].RescaleIntercept\n",
        "\n",
        "    slope = slices[slice_number].RescaleIntercept\n",
        "    if slope !=1:\n",
        "      image[slice_number] = slope * image[slice_number].astype(np.float64)\n",
        "      image[slice_number] =  image[slice_number].astype(np.int16)\n",
        "      image[slice_number] += np.int16(intercept)\n",
        "  return np.array(image, dtype =np.int16)"
      ],
      "metadata": {
        "id": "-V4fSrRe8ACR"
      },
      "execution_count": null,
      "outputs": []
    },
    {
      "cell_type": "code",
      "source": [
        "#test patient 1\n",
        "first_patient = load_scan(patients[0])\n",
        "first_patient_pixels = get_pixels_hu(first_patient)\n",
        "plt.hist(first_patient_pixels.flatten(), bins=80, color='c')\n",
        "\n",
        "plt.xlabel(\"Hounsfield Units (HU)\")\n",
        "plt.ylabel(\"Frequency\")\n",
        "plt.show()\n",
        "\n",
        "#show som slice in midle\n",
        "plt.imshow(first_patient_pixels[80], cmap=plt.cm.gray)\n",
        "plt.show()"
      ],
      "metadata": {
        "colab": {
          "base_uri": "https://localhost:8080/",
          "height": 356
        },
        "id": "DQSu30tI91-X",
        "outputId": "5aefa0ed-761c-4879-8b9d-36f7078928b5"
      },
      "execution_count": null,
      "outputs": [
        {
          "output_type": "error",
          "ename": "FileNotFoundError",
          "evalue": "ignored",
          "traceback": [
            "\u001b[0;31m---------------------------------------------------------------------------\u001b[0m",
            "\u001b[0;31mFileNotFoundError\u001b[0m                         Traceback (most recent call last)",
            "\u001b[0;32m<ipython-input-10-074819e84c29>\u001b[0m in \u001b[0;36m<module>\u001b[0;34m\u001b[0m\n\u001b[1;32m      1\u001b[0m \u001b[0;31m#test patient 1\u001b[0m\u001b[0;34m\u001b[0m\u001b[0;34m\u001b[0m\u001b[0;34m\u001b[0m\u001b[0m\n\u001b[0;32m----> 2\u001b[0;31m \u001b[0mfirst_patient\u001b[0m \u001b[0;34m=\u001b[0m \u001b[0mload_scan\u001b[0m\u001b[0;34m(\u001b[0m\u001b[0mpatients\u001b[0m\u001b[0;34m[\u001b[0m\u001b[0;36m0\u001b[0m\u001b[0;34m]\u001b[0m\u001b[0;34m)\u001b[0m\u001b[0;34m\u001b[0m\u001b[0;34m\u001b[0m\u001b[0m\n\u001b[0m\u001b[1;32m      3\u001b[0m \u001b[0mfirst_patient_pixels\u001b[0m \u001b[0;34m=\u001b[0m \u001b[0mget_pixels_hu\u001b[0m\u001b[0;34m(\u001b[0m\u001b[0mfirst_patient\u001b[0m\u001b[0;34m)\u001b[0m\u001b[0;34m\u001b[0m\u001b[0;34m\u001b[0m\u001b[0m\n\u001b[1;32m      4\u001b[0m \u001b[0mplt\u001b[0m\u001b[0;34m.\u001b[0m\u001b[0mhist\u001b[0m\u001b[0;34m(\u001b[0m\u001b[0mfirst_patient_pixels\u001b[0m\u001b[0;34m.\u001b[0m\u001b[0mflatten\u001b[0m\u001b[0;34m(\u001b[0m\u001b[0;34m)\u001b[0m\u001b[0;34m,\u001b[0m \u001b[0mbins\u001b[0m\u001b[0;34m=\u001b[0m\u001b[0;36m80\u001b[0m\u001b[0;34m,\u001b[0m \u001b[0mcolor\u001b[0m\u001b[0;34m=\u001b[0m\u001b[0;34m'c'\u001b[0m\u001b[0;34m)\u001b[0m\u001b[0;34m\u001b[0m\u001b[0;34m\u001b[0m\u001b[0m\n\u001b[1;32m      5\u001b[0m \u001b[0;34m\u001b[0m\u001b[0m\n",
            "\u001b[0;32m<ipython-input-7-885066e026c2>\u001b[0m in \u001b[0;36mload_scan\u001b[0;34m(path)\u001b[0m\n\u001b[1;32m      1\u001b[0m \u001b[0;31m#load images in folder path\u001b[0m\u001b[0;34m\u001b[0m\u001b[0;34m\u001b[0m\u001b[0;34m\u001b[0m\u001b[0m\n\u001b[1;32m      2\u001b[0m \u001b[0;32mdef\u001b[0m \u001b[0mload_scan\u001b[0m\u001b[0;34m(\u001b[0m\u001b[0mpath\u001b[0m\u001b[0;34m)\u001b[0m\u001b[0;34m:\u001b[0m\u001b[0;34m\u001b[0m\u001b[0;34m\u001b[0m\u001b[0m\n\u001b[0;32m----> 3\u001b[0;31m   \u001b[0mslices\u001b[0m \u001b[0;34m=\u001b[0m \u001b[0;34m[\u001b[0m\u001b[0mdicom\u001b[0m\u001b[0;34m.\u001b[0m\u001b[0mread_file\u001b[0m\u001b[0;34m(\u001b[0m\u001b[0mpath\u001b[0m \u001b[0;34m+\u001b[0m \u001b[0;34m'/'\u001b[0m \u001b[0;34m+\u001b[0m \u001b[0ms\u001b[0m\u001b[0;34m)\u001b[0m \u001b[0;32mfor\u001b[0m \u001b[0ms\u001b[0m \u001b[0;32min\u001b[0m \u001b[0mos\u001b[0m\u001b[0;34m.\u001b[0m\u001b[0mlistdir\u001b[0m\u001b[0;34m(\u001b[0m\u001b[0mpath\u001b[0m\u001b[0;34m)\u001b[0m\u001b[0;34m]\u001b[0m\u001b[0;34m\u001b[0m\u001b[0;34m\u001b[0m\u001b[0m\n\u001b[0m\u001b[1;32m      4\u001b[0m   \u001b[0mslices\u001b[0m\u001b[0;34m.\u001b[0m\u001b[0msort\u001b[0m\u001b[0;34m(\u001b[0m\u001b[0mkey\u001b[0m \u001b[0;34m=\u001b[0m \u001b[0;32mlambda\u001b[0m \u001b[0mx\u001b[0m\u001b[0;34m:\u001b[0m\u001b[0mfloat\u001b[0m\u001b[0;34m(\u001b[0m\u001b[0mx\u001b[0m\u001b[0;34m.\u001b[0m\u001b[0mImagePositionPatient\u001b[0m\u001b[0;34m[\u001b[0m\u001b[0;36m2\u001b[0m\u001b[0;34m]\u001b[0m\u001b[0;34m)\u001b[0m\u001b[0;34m)\u001b[0m\u001b[0;34m\u001b[0m\u001b[0;34m\u001b[0m\u001b[0m\n\u001b[1;32m      5\u001b[0m   \u001b[0;32mtry\u001b[0m\u001b[0;34m:\u001b[0m\u001b[0;34m\u001b[0m\u001b[0;34m\u001b[0m\u001b[0m\n",
            "\u001b[0;31mFileNotFoundError\u001b[0m: [Errno 2] No such file or directory: '0.jpg'"
          ]
        }
      ]
    }
  ]
}