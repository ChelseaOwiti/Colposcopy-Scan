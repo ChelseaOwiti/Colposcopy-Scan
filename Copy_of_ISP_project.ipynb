{
  "nbformat": 4,
  "nbformat_minor": 0,
  "metadata": {
    "colab": {
      "provenance": [],
      "include_colab_link": true
    },
    "kernelspec": {
      "name": "python3",
      "display_name": "Python 3"
    },
    "language_info": {
      "name": "python"
    }
  },
  "cells": [
    {
      "cell_type": "markdown",
      "metadata": {
        "id": "view-in-github",
        "colab_type": "text"
      },
      "source": [
        "<a href=\"https://colab.research.google.com/github/ChelseaOwiti/Colposcopy-Scan/blob/main/Copy_of_ISP_project.ipynb\" target=\"_parent\"><img src=\"https://colab.research.google.com/assets/colab-badge.svg\" alt=\"Open In Colab\"/></a>"
      ]
    },
    {
      "cell_type": "code",
      "execution_count": 5,
      "metadata": {
        "id": "mQ6svWD-dWOF",
        "colab": {
          "base_uri": "https://localhost:8080/"
        },
        "outputId": "90cc68cd-998d-4b39-bb02-f13b47471e1a"
      },
      "outputs": [
        {
          "output_type": "stream",
          "name": "stdout",
          "text": [
            "Mounted at /content/drive/\n"
          ]
        }
      ],
      "source": [
        "from google.colab import drive\n",
        "drive.mount('/content/drive/')"
      ]
    },
    {
      "cell_type": "code",
      "source": [
        "!pip install -q keras\n",
        "!pip install dicom\n",
        "\n",
        "%matplotlib inline\n",
        "\n",
        "import numpy as np\n",
        "import pandas as pd \n",
        "import keras\n",
        "\n",
        "import dicom\n",
        "import os\n",
        "import scipy.ndimage\n",
        "import matplotlib.pyplot as plt\n",
        " \n",
        "from skimage import measure, morphology \n",
        "from mpl_toolkits.mplot3d.art3d import Poly3DCollection\n",
        "\n",
        "train_path = '/content/drive/MyDrive/train_new/train'\n",
        "patients = os.listdir(train_path)\n",
        "patients.sort()\n",
        "\n",
        "\n"
      ],
      "metadata": {
        "colab": {
          "base_uri": "https://localhost:8080/"
        },
        "id": "ACtmNNON0Wok",
        "outputId": "6b0f249f-8781-422d-c17f-4d679666fd0e"
      },
      "execution_count": 6,
      "outputs": [
        {
          "output_type": "stream",
          "name": "stdout",
          "text": [
            "Looking in indexes: https://pypi.org/simple, https://us-python.pkg.dev/colab-wheels/public/simple/\n",
            "Requirement already satisfied: dicom in /usr/local/lib/python3.7/dist-packages (0.9.9.post1)\n"
          ]
        }
      ]
    },
    {
      "cell_type": "code",
      "source": [
        "#load images in folder path\n",
        "def load_scan(path):\n",
        "  slices = [dicom.read_file(path + '/' + s) for s in os.listdir(path)]\n",
        "  slices.sort(key = lambda x:float(x.ImagePositionPatient[2]))\n",
        "  try:\n",
        "    slice_thickness = np.abs(slices[0].ImagePositionPatient[2] - slice[1].ImagePositionPatient[2])\n",
        "  except:\n",
        "    slice_thickness = np.abs(slices[0].SliceLocation - slices[1].SliceLocation)\n",
        "  \n",
        "  for s in slices:\n",
        "    s.SliceThickness = slice_thickness\n",
        "\n",
        "  return slices"
      ],
      "metadata": {
        "id": "60FnCqwR4fjf"
      },
      "execution_count": 7,
      "outputs": []
    }
  ]
}