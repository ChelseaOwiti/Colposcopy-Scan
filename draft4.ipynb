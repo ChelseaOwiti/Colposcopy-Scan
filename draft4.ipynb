{
  "nbformat": 4,
  "nbformat_minor": 0,
  "metadata": {
    "colab": {
      "provenance": [],
      "mount_file_id": "1fW17Q3FMNPHZo6bGdX4Y5kTVlLUW0cVh",
      "authorship_tag": "ABX9TyM6a4iJw6ZC04XbA7CUgR1m",
      "include_colab_link": true
    },
    "kernelspec": {
      "name": "python3",
      "display_name": "Python 3"
    },
    "language_info": {
      "name": "python"
    },
    "accelerator": "GPU",
    "gpuClass": "standard"
  },
  "cells": [
    {
      "cell_type": "markdown",
      "metadata": {
        "id": "view-in-github",
        "colab_type": "text"
      },
      "source": [
        "<a href=\"https://colab.research.google.com/github/ChelseaOwiti/Colposcopy-Scan/blob/main/draft4.ipynb\" target=\"_parent\"><img src=\"https://colab.research.google.com/assets/colab-badge.svg\" alt=\"Open In Colab\"/></a>"
      ]
    },
    {
      "cell_type": "code",
      "source": [
        "%cd /content/drive/MyDrive/Project\n",
        "%ls"
      ],
      "metadata": {
        "colab": {
          "base_uri": "https://localhost:8080/"
        },
        "id": "hfchgFxOJGYi",
        "outputId": "3dea0bc9-42c9-4ce6-af47-12683a84a229"
      },
      "execution_count": 2,
      "outputs": [
        {
          "output_type": "stream",
          "name": "stdout",
          "text": [
            "/content/drive/MyDrive/Project\n",
            "\u001b[0m\u001b[01;34massets\u001b[0m/      draft1.ipynb     imagenet_draft3_model.h5  model.tflite\n",
            "d2_model.h5  draft1_model.h5  imagenet_model.h5         \u001b[01;34moutput\u001b[0m/\n",
            "d3_model.h5  draft2.ipynb     keras_metadata.pb         saved_model.pb\n",
            "\u001b[01;34mdata\u001b[0m/        h5_model.h5      \u001b[01;34mlogs\u001b[0m/                     \u001b[01;34mvariables\u001b[0m/\n"
          ]
        }
      ]
    },
    {
      "cell_type": "code",
      "source": [
        "trainpath = 'data/train'\n",
        "valpath = 'data/val'\n",
        "testpath = 'data/test'"
      ],
      "metadata": {
        "id": "JXIHhB7RJZzF"
      },
      "execution_count": 3,
      "outputs": []
    },
    {
      "cell_type": "code",
      "source": [
        "import numpy as np\n",
        "import os\n",
        "import PIL\n",
        "\n",
        "import tensorflow as tf\n",
        "from tensorflow import keras\n",
        "from tensorflow.keras import layers\n",
        "from tensorflow.keras.models import Sequential\n",
        "\n",
        "import matplotlib.pyplot as plt\n",
        "\n",
        "import pathlib"
      ],
      "metadata": {
        "id": "7hUC2R5gJcdE"
      },
      "execution_count": 4,
      "outputs": []
    },
    {
      "cell_type": "code",
      "source": [
        "train_dir = pathlib.Path(trainpath)\n",
        "test_dir = pathlib.Path(valpath)\n",
        "\n",
        "print(str(len(list(train_dir.glob('*/*.jpg'))) )+ ' Training Images')\n",
        "print(str(len(list(test_dir.glob('*/*.jpg')))) + ' Testing Images')"
      ],
      "metadata": {
        "colab": {
          "base_uri": "https://localhost:8080/"
        },
        "id": "ivnys_tFJgLX",
        "outputId": "a02eca23-275f-48e0-ec10-8aabd1c15a54"
      },
      "execution_count": 5,
      "outputs": [
        {
          "output_type": "stream",
          "name": "stdout",
          "text": [
            "888 Training Images\n",
            "296 Testing Images\n"
          ]
        }
      ]
    },
    {
      "cell_type": "code",
      "source": [
        "batch_size = 32  \n",
        "img_height = 224\n",
        "img_width = 224"
      ],
      "metadata": {
        "id": "Jt1xGq9CJlME"
      },
      "execution_count": 6,
      "outputs": []
    },
    {
      "cell_type": "code",
      "source": [
        "train_ds = tf.keras.utils.image_dataset_from_directory(\n",
        "    train_dir,\n",
        "    validation_split = 0.1,\n",
        "    subset ='training',\n",
        "    seed = 123,\n",
        "    image_size = (img_height, img_width),\n",
        "    batch_size = batch_size\n",
        ")"
      ],
      "metadata": {
        "colab": {
          "base_uri": "https://localhost:8080/"
        },
        "id": "wxX1S0mKJopE",
        "outputId": "8c7dc7f8-f86c-4a05-f488-c87704fd62b9"
      },
      "execution_count": 7,
      "outputs": [
        {
          "output_type": "stream",
          "name": "stdout",
          "text": [
            "Found 888 files belonging to 3 classes.\n",
            "Using 800 files for training.\n"
          ]
        }
      ]
    },
    {
      "cell_type": "code",
      "source": [
        "val_ds = tf.keras.utils.image_dataset_from_directory(\n",
        "    train_dir,\n",
        "    validation_split = 0.1,\n",
        "    subset ='validation',\n",
        "    seed = 123,\n",
        "    image_size = (img_height, img_width),\n",
        "    batch_size = batch_size\n",
        ")"
      ],
      "metadata": {
        "colab": {
          "base_uri": "https://localhost:8080/"
        },
        "id": "a5iMZURRJsG-",
        "outputId": "78f1df5d-dff3-43fd-f49e-a5053ec9bf64"
      },
      "execution_count": 8,
      "outputs": [
        {
          "output_type": "stream",
          "name": "stdout",
          "text": [
            "Found 888 files belonging to 3 classes.\n",
            "Using 88 files for validation.\n"
          ]
        }
      ]
    },
    {
      "cell_type": "code",
      "source": [
        "class_names = train_ds.class_names\n",
        "print(class_names)"
      ],
      "metadata": {
        "colab": {
          "base_uri": "https://localhost:8080/"
        },
        "id": "UGTp9tD0JuAZ",
        "outputId": "c5548fcc-c06d-4399-b5f7-dcc015033237"
      },
      "execution_count": 9,
      "outputs": [
        {
          "output_type": "stream",
          "name": "stdout",
          "text": [
            "['Type_1', 'Type_2', 'Type_3']\n"
          ]
        }
      ]
    },
    {
      "cell_type": "code",
      "source": [
        "for image_batch, labels_batch in train_ds: #image batch is a tensor of the shape\n",
        "  print(image_batch.shape)\n",
        "  print(labels_batch.shape)\n",
        "  break"
      ],
      "metadata": {
        "colab": {
          "base_uri": "https://localhost:8080/"
        },
        "id": "2LGrElbXJy_3",
        "outputId": "0e9bd2b7-b2a6-408b-c49a-c5c4f3016279"
      },
      "execution_count": 10,
      "outputs": [
        {
          "output_type": "stream",
          "name": "stdout",
          "text": [
            "(32, 224, 224, 3)\n",
            "(32,)\n"
          ]
        }
      ]
    },
    {
      "cell_type": "code",
      "source": [
        "\n",
        "AUTOTUNE = tf.data.AUTOTUNE\n",
        "\n",
        "train_ds = train_ds.cache().shuffle(1000).prefetch(buffer_size = AUTOTUNE)\n",
        "val_ds = val_ds.cache().prefetch(buffer_size = AUTOTUNE)"
      ],
      "metadata": {
        "id": "GK5HdSxcVt68"
      },
      "execution_count": 11,
      "outputs": []
    },
    {
      "cell_type": "code",
      "source": [
        "normalization_layer = layers.Rescaling(1./255)"
      ],
      "metadata": {
        "id": "zeWgIqv5Vw6H"
      },
      "execution_count": 12,
      "outputs": []
    },
    {
      "cell_type": "code",
      "source": [
        "normalized_ds = train_ds.map(lambda x, y: (normalization_layer(x), y))\n",
        "image_batch, labels_batch = next(iter(normalized_ds))\n",
        "first_image = image_batch[0]\n",
        "# Notice the pixel values are now in `[0,1]`.\n",
        "print(np.min(first_image), np.max(first_image))"
      ],
      "metadata": {
        "colab": {
          "base_uri": "https://localhost:8080/"
        },
        "id": "fPzFS36RVzd_",
        "outputId": "8c473a22-bdb7-4177-9c74-df5d4f0236ed"
      },
      "execution_count": 13,
      "outputs": [
        {
          "output_type": "stream",
          "name": "stdout",
          "text": [
            "0.0 1.0\n"
          ]
        }
      ]
    },
    {
      "cell_type": "code",
      "source": [
        "num_classes = len(class_names)\n",
        "resnet_model = Sequential()\n",
        "\n",
        "pretrained_model= tf.keras.applications.ResNet50(include_top=False,\n",
        "                   input_shape=(224,224,3),\n",
        "                   pooling='avg',classes= num_classes,\n",
        "                   weights='imagenet')\n",
        "for layer in pretrained_model.layers:\n",
        "        layer.trainable=False\n",
        "\n",
        "resnet_model.add(pretrained_model)"
      ],
      "metadata": {
        "colab": {
          "base_uri": "https://localhost:8080/"
        },
        "id": "OxVBQOU_WKzr",
        "outputId": "004bd6eb-7fda-4467-b78b-05eafdf5b650"
      },
      "execution_count": 14,
      "outputs": [
        {
          "output_type": "stream",
          "name": "stdout",
          "text": [
            "Downloading data from https://storage.googleapis.com/tensorflow/keras-applications/resnet/resnet50_weights_tf_dim_ordering_tf_kernels_notop.h5\n",
            "94765736/94765736 [==============================] - 5s 0us/step\n"
          ]
        }
      ]
    },
    {
      "cell_type": "code",
      "source": [
        "from tensorflow.keras.layers import Dense,Flatten\n",
        "from tensorflow.keras.optimizers import Adam"
      ],
      "metadata": {
        "id": "xxr0ZOmbYAx9"
      },
      "execution_count": 15,
      "outputs": []
    },
    {
      "cell_type": "code",
      "source": [
        "resnet_model.add(Flatten())\n",
        "resnet_model.add(Dense(512, activation='relu'))\n",
        "resnet_model.add(Dense(5, activation='softmax'))"
      ],
      "metadata": {
        "id": "QYvX-meqWz0z"
      },
      "execution_count": 16,
      "outputs": []
    },
    {
      "cell_type": "code",
      "source": [
        "resnet_model.summary()"
      ],
      "metadata": {
        "colab": {
          "base_uri": "https://localhost:8080/"
        },
        "id": "vRnnN8vOYn8B",
        "outputId": "9819aba7-87a4-412d-fc7f-1e1fae6e7966"
      },
      "execution_count": 17,
      "outputs": [
        {
          "output_type": "stream",
          "name": "stdout",
          "text": [
            "Model: \"sequential\"\n",
            "_________________________________________________________________\n",
            " Layer (type)                Output Shape              Param #   \n",
            "=================================================================\n",
            " resnet50 (Functional)       (None, 2048)              23587712  \n",
            "                                                                 \n",
            " flatten (Flatten)           (None, 2048)              0         \n",
            "                                                                 \n",
            " dense (Dense)               (None, 512)               1049088   \n",
            "                                                                 \n",
            " dense_1 (Dense)             (None, 5)                 2565      \n",
            "                                                                 \n",
            "=================================================================\n",
            "Total params: 24,639,365\n",
            "Trainable params: 1,051,653\n",
            "Non-trainable params: 23,587,712\n",
            "_________________________________________________________________\n"
          ]
        }
      ]
    },
    {
      "cell_type": "code",
      "source": [
        "resnet_model.compile(optimizer='adam', loss=tf.keras.losses.SparseCategoricalCrossentropy(from_logits=True),\n",
        "                     metrics=['accuracy'])\n",
        "\n"
      ],
      "metadata": {
        "id": "-mzkaN3sYyy3"
      },
      "execution_count": 18,
      "outputs": []
    },
    {
      "cell_type": "code",
      "source": [
        "epochs = 10\n",
        "history = resnet_model.fit(\n",
        "    train_ds, \n",
        "    validation_data=val_ds, \n",
        "    epochs=epochs)"
      ],
      "metadata": {
        "colab": {
          "base_uri": "https://localhost:8080/"
        },
        "id": "EW2ucRxLZWAE",
        "outputId": "762c30af-9a54-4d24-89c7-215bab35c9e3"
      },
      "execution_count": 19,
      "outputs": [
        {
          "output_type": "stream",
          "name": "stdout",
          "text": [
            "Epoch 1/10\n"
          ]
        },
        {
          "output_type": "stream",
          "name": "stderr",
          "text": [
            "/usr/local/lib/python3.8/dist-packages/tensorflow/python/util/dispatch.py:1082: UserWarning: \"`sparse_categorical_crossentropy` received `from_logits=True`, but the `output` argument was produced by a sigmoid or softmax activation and thus does not represent logits. Was this intended?\"\n",
            "  return dispatch_target(*args, **kwargs)\n"
          ]
        },
        {
          "output_type": "stream",
          "name": "stdout",
          "text": [
            "25/25 [==============================] - 35s 1s/step - loss: 2.0889 - accuracy: 0.4400 - val_loss: 1.3826 - val_accuracy: 0.3409\n",
            "Epoch 2/10\n",
            "25/25 [==============================] - 3s 109ms/step - loss: 0.9855 - accuracy: 0.5400 - val_loss: 1.2337 - val_accuracy: 0.4318\n",
            "Epoch 3/10\n",
            "25/25 [==============================] - 3s 108ms/step - loss: 0.8039 - accuracy: 0.6425 - val_loss: 1.1197 - val_accuracy: 0.4773\n",
            "Epoch 4/10\n",
            "25/25 [==============================] - 3s 109ms/step - loss: 0.6986 - accuracy: 0.7025 - val_loss: 1.0629 - val_accuracy: 0.5000\n",
            "Epoch 5/10\n",
            "25/25 [==============================] - 3s 110ms/step - loss: 0.6333 - accuracy: 0.7262 - val_loss: 1.1265 - val_accuracy: 0.5341\n",
            "Epoch 6/10\n",
            "25/25 [==============================] - 3s 109ms/step - loss: 0.5705 - accuracy: 0.7638 - val_loss: 1.1315 - val_accuracy: 0.4545\n",
            "Epoch 7/10\n",
            "25/25 [==============================] - 3s 109ms/step - loss: 0.5317 - accuracy: 0.7738 - val_loss: 1.3341 - val_accuracy: 0.3864\n",
            "Epoch 8/10\n",
            "25/25 [==============================] - 3s 109ms/step - loss: 0.4533 - accuracy: 0.8213 - val_loss: 1.2542 - val_accuracy: 0.4886\n",
            "Epoch 9/10\n",
            "25/25 [==============================] - 3s 109ms/step - loss: 0.3760 - accuracy: 0.8775 - val_loss: 1.2922 - val_accuracy: 0.5114\n",
            "Epoch 10/10\n",
            "25/25 [==============================] - 3s 108ms/step - loss: 0.3303 - accuracy: 0.8975 - val_loss: 1.4863 - val_accuracy: 0.5682\n"
          ]
        }
      ]
    },
    {
      "cell_type": "markdown",
      "source": [
        "Model Evaluation"
      ],
      "metadata": {
        "id": "Q8b3cSGrZ6rp"
      }
    },
    {
      "cell_type": "code",
      "source": [
        "fig1 = plt.gcf()\n",
        "plt.plot(history.history['accuracy'])\n",
        "plt.plot(history.history['val_accuracy'])\n",
        "plt.axis(ymin=0.4,ymax=1)\n",
        "plt.grid()\n",
        "plt.title('Model Accuracy')\n",
        "plt.ylabel('Accuracy')\n",
        "plt.xlabel('Epochs')\n",
        "plt.legend(['train', 'validation'])\n",
        "plt.show()"
      ],
      "metadata": {
        "colab": {
          "base_uri": "https://localhost:8080/",
          "height": 295
        },
        "id": "U2jixR3EZ87e",
        "outputId": "f0602218-326b-4850-d524-234d3869201c"
      },
      "execution_count": 20,
      "outputs": [
        {
          "output_type": "display_data",
          "data": {
            "text/plain": [
              "<Figure size 432x288 with 1 Axes>"
            ],
            "image/png": "[encoded data removed]"
          },
          "metadata": {
            "needs_background": "light"
          }
        }
      ]
    },
    {
      "cell_type": "code",
      "source": [
        "loss = history.history['loss']\n",
        "val_loss = history.history['val_loss']\n",
        "\n",
        "epochs_range = range(epochs)\n",
        "\n",
        "plt.subplot(1, 2, 2)\n",
        "plt.plot(epochs_range, loss, label='Training Loss')\n",
        "plt.plot(epochs_range, val_loss, label='Validation Loss')\n",
        "plt.legend(loc='upper right')\n",
        "plt.title('Training and Validation Loss')\n",
        "plt.show()"
      ],
      "metadata": {
        "colab": {
          "base_uri": "https://localhost:8080/",
          "height": 281
        },
        "id": "NoycsL5ROuUF",
        "outputId": "9364cc40-0782-4d62-9720-20abf396fff3"
      },
      "execution_count": 25,
      "outputs": [
        {
          "output_type": "display_data",
          "data": {
            "text/plain": [
              "<Figure size 432x288 with 1 Axes>"
            ],
            "image/png": "[encoded data removed]"
          },
          "metadata": {
            "needs_background": "light"
          }
        }
      ]
    },
    {
      "cell_type": "markdown",
      "source": [
        "Predictions"
      ],
      "metadata": {
        "id": "qclqdJgTaMkN"
      }
    },
    {
      "cell_type": "code",
      "source": [
        "#Type 1 Predictions\n",
        "test_image = '/content/drive/MyDrive/Project/data/train/Type_1/1013.jpg'\n",
        "\n",
        "img = tf.keras.utils.load_img(\n",
        "    test_image, target_size=(img_height, img_width)\n",
        ")\n",
        "img_array = tf.keras.utils.img_to_array(img)\n",
        "img_array = tf.expand_dims(img_array, 0) # Create a batch\n",
        "\n",
        "predictions = resnet_model.predict(img_array)\n",
        "score = tf.nn.softmax(predictions[0])\n",
        "\n",
        "print(\n",
        "    \"This image most likely belongs to {} with a {:.2f} percent confidence.\"\n",
        "    .format(class_names[np.argmax(score)], 100 * np.max(score))\n",
        ")"
      ],
      "metadata": {
        "colab": {
          "base_uri": "https://localhost:8080/"
        },
        "id": "emgE7_1faTOe",
        "outputId": "3df4e4cb-7db2-4aef-a24d-779f692de4e5"
      },
      "execution_count": 22,
      "outputs": [
        {
          "output_type": "stream",
          "name": "stdout",
          "text": [
            "1/1 [==============================] - 0s 21ms/step\n",
            "This image most likely belongs to Type_2 with a 27.62 percent confidence.\n"
          ]
        }
      ]
    },
    {
      "cell_type": "code",
      "source": [
        "#Type 2\n",
        "test_image = '/content/drive/MyDrive/Project/data/val/Type_2/1010.jpg'\n",
        "\n",
        "img = tf.keras.utils.load_img(\n",
        "    test_image, target_size=(img_height, img_width)\n",
        ")\n",
        "img_array = tf.keras.utils.img_to_array(img)\n",
        "img_array = tf.expand_dims(img_array, 0) # Create a batch\n",
        "\n",
        "predictions = resnet_model.predict(img_array)\n",
        "score = tf.nn.softmax(predictions[0])\n",
        "\n",
        "print(\n",
        "    \"This image most likely belongs to {} with a {:.2f} percent confidence.\"\n",
        "    .format(class_names[np.argmax(score)], 100 * np.max(score))\n",
        ")"
      ],
      "metadata": {
        "colab": {
          "base_uri": "https://localhost:8080/"
        },
        "id": "NYcvzKsqORJX",
        "outputId": "9747b7b5-29b1-4cc8-a2c9-316bea8ca5b2"
      },
      "execution_count": 23,
      "outputs": [
        {
          "output_type": "stream",
          "name": "stdout",
          "text": [
            "1/1 [==============================] - 0s 22ms/step\n",
            "This image most likely belongs to Type_2 with a 37.89 percent confidence.\n"
          ]
        }
      ]
    },
    {
      "cell_type": "code",
      "source": [
        "test_image = '/content/drive/MyDrive/Project/data/val/Type_3/1029.jpg'\n",
        "\n",
        "img = tf.keras.utils.load_img(\n",
        "    test_image, target_size=(img_height, img_width)\n",
        ")\n",
        "img_array = tf.keras.utils.img_to_array(img)\n",
        "img_array = tf.expand_dims(img_array, 0) # Create a batch\n",
        "\n",
        "predictions = resnet_model.predict(img_array)\n",
        "score = tf.nn.softmax(predictions[0])\n",
        "\n",
        "print(\n",
        "    \"This image most likely belongs to {} with a {:.2f} percent confidence.\"\n",
        "    .format(class_names[np.argmax(score)], 100 * np.max(score))\n",
        ")"
      ],
      "metadata": {
        "colab": {
          "base_uri": "https://localhost:8080/"
        },
        "id": "VTpTsk03OhPy",
        "outputId": "9b58d925-f85b-4f48-ab9c-02628c0657f7"
      },
      "execution_count": 24,
      "outputs": [
        {
          "output_type": "stream",
          "name": "stdout",
          "text": [
            "1/1 [==============================] - 0s 25ms/step\n",
            "This image most likely belongs to Type_3 with a 35.44 percent confidence.\n"
          ]
        }
      ]
    },
    {
      "cell_type": "code",
      "source": [
        "resnet_model.save(\"resnet50_model.h5\")"
      ],
      "metadata": {
        "id": "nYSAxxk1N5j4"
      },
      "execution_count": 26,
      "outputs": []
    }
  ]
}